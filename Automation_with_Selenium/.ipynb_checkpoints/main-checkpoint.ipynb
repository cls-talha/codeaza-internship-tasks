{
 "cells": [
  {
   "cell_type": "markdown",
   "id": "0f44233a-6c5a-4d21-a635-ae0e69ee40b5",
   "metadata": {},
   "source": [
    "# Importing libraries"
   ]
  },
  {
   "cell_type": "code",
   "execution_count": 1,
   "id": "75c11d65-39b4-48ba-9e40-6d2ba3ab560e",
   "metadata": {
    "tags": []
   },
   "outputs": [],
   "source": [
    "from selenium import webdriver\n",
    "from selenium.webdriver.common.by import By"
   ]
  },
  {
   "cell_type": "markdown",
   "id": "105a2a5a-441d-4f36-84f2-09414cc56e13",
   "metadata": {},
   "source": [
    "# Auto join script to join google meets"
   ]
  },
  {
   "cell_type": "code",
   "execution_count": 2,
   "id": "7e2ccc78-9006-4b68-b070-000f8c9712f7",
   "metadata": {
    "tags": []
   },
   "outputs": [],
   "source": [
    "driver = webdriver.Chrome()\n",
    "driver.get(\"https://apps.google.com/meet\")\n",
    "\n",
    "input_element = driver.find_element(By.XPATH,'//*[@id=\"page-content\"]/section[1]/div/div[1]/div[2]/div/div[2]/input') # xpath copied from inspect elements\n",
    "input_element.send_keys(\"ecm-okyf-ofm\") # filling textbox with desired imput\n",
    "\n",
    "join_button = driver.find_element(By.XPATH, '//*[@id=\"page-content\"]/section[1]/div/div[1]/div[2]/div/div[2]/a/button') # xpath copied from inspect elements\n",
    "join_button.click() #clicking on button\n",
    "driver.quit()"
   ]
  },
  {
   "cell_type": "markdown",
   "id": "95a67f0a-53ab-4d72-b55f-55fffecc5a54",
   "metadata": {},
   "source": [
    "# Practice on Different functions"
   ]
  },
  {
   "cell_type": "code",
   "execution_count": 3,
   "id": "e5c83254-9075-4b32-a09b-855991129131",
   "metadata": {
    "tags": []
   },
   "outputs": [
    {
     "name": "stdout",
     "output_type": "stream",
     "text": [
      "The title of the webpage is: Automating Google meet using selenium in Python - GeeksforGeeks\n",
      "----------------------------------------------------------------------------------------------------\n",
      "1 Block of code contains: \n",
      "----------------------------------------------------------------------------------------------------\n",
      "# import required modules\n",
      "from selenium import webdriver\n",
      "from selenium.webdriver.common.by import By\n",
      "from selenium.webdriver.chrome.options import Options\n",
      "import time\n",
      "\n",
      "\n",
      "----------------------------------------------------------------------------------------------------\n",
      "2 Block of code contains: \n",
      "----------------------------------------------------------------------------------------------------\n",
      "# creating chrome instance\n",
      "opt = Options()\n",
      "opt.add_argument('--disable-blink-features=AutomationControlled')\n",
      "opt.add_argument('--start-maximized')\n",
      "opt.add_experimental_option(\"prefs\", {\n",
      "     \"profile.default_content_setting_values.media_stream_mic\": 1,\n",
      "    \"profile.default_content_setting_values.media_stream_camera\": 1,\n",
      "    \"profile.default_content_setting_values.geolocation\": 0,\n",
      "    \"profile.default_content_setting_values.notifications\": 1\n",
      "})\n",
      "driver = webdriver.Chrome(options=opt)\n",
      "\n",
      "\n",
      "----------------------------------------------------------------------------------------------------\n",
      "3 Block of code contains: \n",
      "----------------------------------------------------------------------------------------------------\n",
      "# go to google meet\n",
      "driver.get('https://meet.google.com/xby-zehb-ncf')\n",
      "\n",
      "\n",
      "----------------------------------------------------------------------------------------------------\n",
      "4 Block of code contains: \n",
      "----------------------------------------------------------------------------------------------------\n",
      "# explicit function to turn off mic and cam\n",
      "def turnOffMicCam():\n",
      "     # turn off Microphone\n",
      "    time.sleep(2)\n",
      "    driver.find_element(By.XPATH,\n",
      "        '//*[@id=\"yDmH0d\"]/c-wiz/div/div/div[8]/div[3]/div/div/div[2]/div/div[1]/div[1]/div[1]/div/div[4]/div[1]/div/div/div').click()\n",
      "    driver.implicitly_wait(3000)\n",
      "     # turn off camera\n",
      "    time.sleep(1)\n",
      "    driver.find_element(By.XPATH,\n",
      "        '//*[@id=\"yDmH0d\"]/c-wiz/div/div/div[8]/div[3]/div/div/div[2]/div/div[1]/div[1]/div[1]/div/div[4]/div[2]/div/div').click()\n",
      "    driver.implicitly_wait(3000)\n",
      "\n",
      "\n",
      "----------------------------------------------------------------------------------------------------\n",
      "5 Block of code contains: \n",
      "----------------------------------------------------------------------------------------------------\n",
      "def AskToJoin():\n",
      "    # Ask to Join meet\n",
      "    time.sleep(5)\n",
      "    driver.implicitly_wait(2000)\n",
      "    driver.find_element(By.CSS_SELECTOR,\n",
      "        'div.uArJ5e.UQuaGc.Y5sE8d.uyXBBb.xKiqt').click()\n",
      "    # Ask to join and join now buttons have same xpaths\n",
      "\n",
      "\n",
      "----------------------------------------------------------------------------------------------------\n",
      "6 Block of code contains: \n",
      "----------------------------------------------------------------------------------------------------\n",
      "def Glogin(mail_address, password):\n",
      "    # Login Page\n",
      "    driver.get(\n",
      "        'https://accounts.google.com/ServiceLogin?hl=en&passive=true&continue=https://www.google.com/&ec=GAZAAQ')\n",
      "     # input Gmail\n",
      "    driver.find_element(By.XPATH, \"identifierId\").send_keys(mail_address)\n",
      "    driver.find_element(By.ID, \"identifierNext\").click()\n",
      "    driver.implicitly_wait(10)\n",
      "     # input Password\n",
      "    driver.find_element(By.XPATH,\n",
      "        '//*[@id=\"password\"]/div[1]/div/div[1]/input').send_keys(password)\n",
      "    driver.implicitly_wait(10)\n",
      "    driver.find_element(By.ID, \"passwordNext\").click()\n",
      "    driver.implicitly_wait(10)\n",
      "     # go to google home page\n",
      "    driver.get('https://google.com/')\n",
      "    driver.implicitly_wait(100)\n",
      "\n",
      "\n",
      "----------------------------------------------------------------------------------------------------\n",
      "7 Block of code contains: \n",
      "----------------------------------------------------------------------------------------------------\n",
      "# import required modules\n",
      "from selenium import webdriver\n",
      "from selenium.webdriver.common.by import By\n",
      "from selenium.webdriver.chrome.options import Options\n",
      "import time\n",
      "  def Glogin(mail_address, password):\n",
      "    # Login Page\n",
      "    driver.get(\n",
      "        'https://accounts.google.com/ServiceLogin?hl=en&passive=true&continue=https://www.google.com/&ec=GAZAAQ')\n",
      "     # input Gmail\n",
      "    driver.find_element(By.ID, \"identifierId\").send_keys(mail_address)\n",
      "    driver.find_element(By.ID, \"identifierNext\").click()\n",
      "    driver.implicitly_wait(10)\n",
      "     # input Password\n",
      "    driver.find_element(By.XPATH,\n",
      "        '//*[@id=\"password\"]/div[1]/div/div[1]/input').send_keys(password)\n",
      "    driver.implicitly_wait(10)\n",
      "    driver.find_element(By.ID, \"passwordNext\").click()\n",
      "    driver.implicitly_wait(10)\n",
      "     # go to google home page\n",
      "    driver.get('https://google.com/')\n",
      "    driver.implicitly_wait(100)\n",
      "  def turnOffMicCam():\n",
      "    # turn off Microphone\n",
      "    time.sleep(2)\n",
      "    driver.find_element(By.XPATH,\n",
      "        '//*[@id=\"yDmH0d\"]/c-wiz/div/div/div[8]/div[3]/div/div/div[2]/div/div[1]/div[1]/div[1]/div/div[4]/div[1]/div/div/div').click()\n",
      "    driver.implicitly_wait(3000)\n",
      "     # turn off camera\n",
      "    time.sleep(1)\n",
      "    driver.find_element(By.XPATH,\n",
      "        '//*[@id=\"yDmH0d\"]/c-wiz/div/div/div[8]/div[3]/div/div/div[2]/div/div[1]/div[1]/div[1]/div/div[4]/div[2]/div/div').click()\n",
      "    driver.implicitly_wait(3000)\n",
      "  def joinNow():\n",
      "    # Join meet\n",
      "    print(1)\n",
      "    time.sleep(5)\n",
      "    driver.implicitly_wait(2000)\n",
      "    driver.find_element(By.CSS_SELECTOR,\n",
      "        'div.uArJ5e.UQuaGc.Y5sE8d.uyXBBb.xKiqt').click()\n",
      "    print(1)\n",
      "  def AskToJoin():\n",
      "    # Ask to Join meet\n",
      "    time.sleep(5)\n",
      "    driver.implicitly_wait(2000)\n",
      "    driver.find_element(By.CSS_SELECTOR,\n",
      "        'div.uArJ5e.UQuaGc.Y5sE8d.uyXBBb.xKiqt').click()\n",
      "    # Ask to join and join now buttons have same xpaths\n",
      "  # assign email id and password\n",
      "mail_address = 'emaild@gmail.com'\n",
      "password = 'geeksforgeeks'\n",
      " # create chrome instance\n",
      "opt = Options()\n",
      "opt.add_argument('--disable-blink-features=AutomationControlled')\n",
      "opt.add_argument('--start-maximized')\n",
      "opt.add_experimental_option(\"prefs\", {\n",
      "    \"profile.default_content_setting_values.media_stream_mic\": 1,\n",
      "    \"profile.default_content_setting_values.media_stream_camera\": 1,\n",
      "    \"profile.default_content_setting_values.geolocation\": 0,\n",
      "    \"profile.default_content_setting_values.notifications\": 1\n",
      "})\n",
      "driver = webdriver.Chrome(options=opt)\n",
      " # login to Google account\n",
      "Glogin(mail_address, password)\n",
      " # go to google meet\n",
      "driver.get('https://meet.google.com/xby-zehb-ncf')\n",
      "turnOffMicCam()\n",
      "# AskToJoin()\n",
      "joinNow()\n",
      "\n",
      "\n"
     ]
    }
   ],
   "source": [
    "from selenium import webdriver\n",
    "from selenium.webdriver.common.by import By\n",
    "\n",
    "# Instantiate the WebDriver (e.g., ChromeDriver)\n",
    "driver = webdriver.Chrome()\n",
    "\n",
    "# Navigate to the webpage\n",
    "driver.get(\"https://www.geeksforgeeks.org/automating-google-meet-using-selenium-in-python/\")\n",
    "\n",
    "# Get the title of the webpage\n",
    "title = driver.title\n",
    "print(\"The title of the webpage is:\", title)\n",
    "\n",
    "# Find code containers by class name\n",
    "code_containers = driver.find_elements(By.CLASS_NAME, \"code-container\")\n",
    "\n",
    "# Print the code from each code container\n",
    "for i , code_container in enumerate(code_containers):\n",
    "    \n",
    "    print(100*\"-\")\n",
    "    print(f\"{i+1} Block of code contains: \")\n",
    "    print(100*\"-\")\n",
    "    \n",
    "    print(code_container.text)\n",
    "    print(\"\\n\")\n",
    "    \n",
    "    \n",
    "\n",
    "# Close the browser\n",
    "driver.quit()\n"
   ]
  },
  {
   "cell_type": "markdown",
   "id": "93a0c0ac-900d-43a7-bae7-c2a99f1a721e",
   "metadata": {},
   "source": [
    "# Scrolling "
   ]
  },
  {
   "cell_type": "code",
   "execution_count": 4,
   "id": "162dc144-83f5-4c66-99f2-d66398d15cf7",
   "metadata": {
    "tags": []
   },
   "outputs": [
    {
     "ename": "NoSuchWindowException",
     "evalue": "Message: no such window: target window already closed\nfrom unknown error: web view not found\n  (Session info: chrome=114.0.5735.198)\nStacktrace:\n#0 0x55699efd14e3 <unknown>\n#1 0x55699ed00c76 <unknown>\n#2 0x55699ecdac6c <unknown>\n#3 0x55699ed60f8f <unknown>\n#4 0x55699ed73d66 <unknown>\n#5 0x55699ed5bde3 <unknown>\n#6 0x55699ed312dd <unknown>\n#7 0x55699ed3234e <unknown>\n#8 0x55699ef913e4 <unknown>\n#9 0x55699ef953d7 <unknown>\n#10 0x55699ef9fb20 <unknown>\n#11 0x55699ef96023 <unknown>\n#12 0x55699ef641aa <unknown>\n#13 0x55699efba6b8 <unknown>\n#14 0x55699efba847 <unknown>\n#15 0x55699efca243 <unknown>\n#16 0x7ff88ce3344b <unknown>\n",
     "output_type": "error",
     "traceback": [
      "\u001b[0;31m---------------------------------------------------------------------------\u001b[0m",
      "\u001b[0;31mNoSuchWindowException\u001b[0m                     Traceback (most recent call last)",
      "\u001b[0;32m<ipython-input-4-701c78932b7a>\u001b[0m in \u001b[0;36m<module>\u001b[0;34m\u001b[0m\n\u001b[1;32m     14\u001b[0m \u001b[0;31m# Slowly scroll down the page\u001b[0m\u001b[0;34m\u001b[0m\u001b[0;34m\u001b[0m\u001b[0;34m\u001b[0m\u001b[0m\n\u001b[1;32m     15\u001b[0m \u001b[0;32mwhile\u001b[0m \u001b[0mscroll_height\u001b[0m \u001b[0;34m<=\u001b[0m \u001b[0;36m2000\u001b[0m\u001b[0;34m:\u001b[0m\u001b[0;34m\u001b[0m\u001b[0;34m\u001b[0m\u001b[0m\n\u001b[0;32m---> 16\u001b[0;31m     \u001b[0mdriver\u001b[0m\u001b[0;34m.\u001b[0m\u001b[0mexecute_script\u001b[0m\u001b[0;34m(\u001b[0m\u001b[0;34mf\"window.scrollTo(0, {scroll_height});\"\u001b[0m\u001b[0;34m)\u001b[0m\u001b[0;34m\u001b[0m\u001b[0;34m\u001b[0m\u001b[0m\n\u001b[0m\u001b[1;32m     17\u001b[0m     \u001b[0mscroll_height\u001b[0m \u001b[0;34m+=\u001b[0m \u001b[0mscroll_increment\u001b[0m\u001b[0;34m\u001b[0m\u001b[0;34m\u001b[0m\u001b[0m\n\u001b[1;32m     18\u001b[0m     \u001b[0mtime\u001b[0m\u001b[0;34m.\u001b[0m\u001b[0msleep\u001b[0m\u001b[0;34m(\u001b[0m\u001b[0mscroll_delay\u001b[0m\u001b[0;34m)\u001b[0m\u001b[0;34m\u001b[0m\u001b[0;34m\u001b[0m\u001b[0m\n",
      "\u001b[0;32m~/miniconda3/envs/datascience/lib/python3.7/site-packages/selenium/webdriver/remote/webdriver.py\u001b[0m in \u001b[0;36mexecute_script\u001b[0;34m(self, script, *args)\u001b[0m\n\u001b[1;32m    404\u001b[0m         \u001b[0mcommand\u001b[0m \u001b[0;34m=\u001b[0m \u001b[0mCommand\u001b[0m\u001b[0;34m.\u001b[0m\u001b[0mW3C_EXECUTE_SCRIPT\u001b[0m\u001b[0;34m\u001b[0m\u001b[0;34m\u001b[0m\u001b[0m\n\u001b[1;32m    405\u001b[0m \u001b[0;34m\u001b[0m\u001b[0m\n\u001b[0;32m--> 406\u001b[0;31m         \u001b[0;32mreturn\u001b[0m \u001b[0mself\u001b[0m\u001b[0;34m.\u001b[0m\u001b[0mexecute\u001b[0m\u001b[0;34m(\u001b[0m\u001b[0mcommand\u001b[0m\u001b[0;34m,\u001b[0m \u001b[0;34m{\u001b[0m\u001b[0;34m\"script\"\u001b[0m\u001b[0;34m:\u001b[0m \u001b[0mscript\u001b[0m\u001b[0;34m,\u001b[0m \u001b[0;34m\"args\"\u001b[0m\u001b[0;34m:\u001b[0m \u001b[0mconverted_args\u001b[0m\u001b[0;34m}\u001b[0m\u001b[0;34m)\u001b[0m\u001b[0;34m[\u001b[0m\u001b[0;34m\"value\"\u001b[0m\u001b[0;34m]\u001b[0m\u001b[0;34m\u001b[0m\u001b[0;34m\u001b[0m\u001b[0m\n\u001b[0m\u001b[1;32m    407\u001b[0m \u001b[0;34m\u001b[0m\u001b[0m\n\u001b[1;32m    408\u001b[0m     \u001b[0;32mdef\u001b[0m \u001b[0mexecute_async_script\u001b[0m\u001b[0;34m(\u001b[0m\u001b[0mself\u001b[0m\u001b[0;34m,\u001b[0m \u001b[0mscript\u001b[0m\u001b[0;34m:\u001b[0m \u001b[0mstr\u001b[0m\u001b[0;34m,\u001b[0m \u001b[0;34m*\u001b[0m\u001b[0margs\u001b[0m\u001b[0;34m)\u001b[0m\u001b[0;34m:\u001b[0m\u001b[0;34m\u001b[0m\u001b[0;34m\u001b[0m\u001b[0m\n",
      "\u001b[0;32m~/miniconda3/envs/datascience/lib/python3.7/site-packages/selenium/webdriver/remote/webdriver.py\u001b[0m in \u001b[0;36mexecute\u001b[0;34m(self, driver_command, params)\u001b[0m\n\u001b[1;32m    344\u001b[0m         \u001b[0mresponse\u001b[0m \u001b[0;34m=\u001b[0m \u001b[0mself\u001b[0m\u001b[0;34m.\u001b[0m\u001b[0mcommand_executor\u001b[0m\u001b[0;34m.\u001b[0m\u001b[0mexecute\u001b[0m\u001b[0;34m(\u001b[0m\u001b[0mdriver_command\u001b[0m\u001b[0;34m,\u001b[0m \u001b[0mparams\u001b[0m\u001b[0;34m)\u001b[0m\u001b[0;34m\u001b[0m\u001b[0;34m\u001b[0m\u001b[0m\n\u001b[1;32m    345\u001b[0m         \u001b[0;32mif\u001b[0m \u001b[0mresponse\u001b[0m\u001b[0;34m:\u001b[0m\u001b[0;34m\u001b[0m\u001b[0;34m\u001b[0m\u001b[0m\n\u001b[0;32m--> 346\u001b[0;31m             \u001b[0mself\u001b[0m\u001b[0;34m.\u001b[0m\u001b[0merror_handler\u001b[0m\u001b[0;34m.\u001b[0m\u001b[0mcheck_response\u001b[0m\u001b[0;34m(\u001b[0m\u001b[0mresponse\u001b[0m\u001b[0;34m)\u001b[0m\u001b[0;34m\u001b[0m\u001b[0;34m\u001b[0m\u001b[0m\n\u001b[0m\u001b[1;32m    347\u001b[0m             \u001b[0mresponse\u001b[0m\u001b[0;34m[\u001b[0m\u001b[0;34m\"value\"\u001b[0m\u001b[0;34m]\u001b[0m \u001b[0;34m=\u001b[0m \u001b[0mself\u001b[0m\u001b[0;34m.\u001b[0m\u001b[0m_unwrap_value\u001b[0m\u001b[0;34m(\u001b[0m\u001b[0mresponse\u001b[0m\u001b[0;34m.\u001b[0m\u001b[0mget\u001b[0m\u001b[0;34m(\u001b[0m\u001b[0;34m\"value\"\u001b[0m\u001b[0;34m,\u001b[0m \u001b[0;32mNone\u001b[0m\u001b[0;34m)\u001b[0m\u001b[0;34m)\u001b[0m\u001b[0;34m\u001b[0m\u001b[0;34m\u001b[0m\u001b[0m\n\u001b[1;32m    348\u001b[0m             \u001b[0;32mreturn\u001b[0m \u001b[0mresponse\u001b[0m\u001b[0;34m\u001b[0m\u001b[0;34m\u001b[0m\u001b[0m\n",
      "\u001b[0;32m~/miniconda3/envs/datascience/lib/python3.7/site-packages/selenium/webdriver/remote/errorhandler.py\u001b[0m in \u001b[0;36mcheck_response\u001b[0;34m(self, response)\u001b[0m\n\u001b[1;32m    243\u001b[0m                 \u001b[0malert_text\u001b[0m \u001b[0;34m=\u001b[0m \u001b[0mvalue\u001b[0m\u001b[0;34m[\u001b[0m\u001b[0;34m\"alert\"\u001b[0m\u001b[0;34m]\u001b[0m\u001b[0;34m.\u001b[0m\u001b[0mget\u001b[0m\u001b[0;34m(\u001b[0m\u001b[0;34m\"text\"\u001b[0m\u001b[0;34m)\u001b[0m\u001b[0;34m\u001b[0m\u001b[0;34m\u001b[0m\u001b[0m\n\u001b[1;32m    244\u001b[0m             \u001b[0;32mraise\u001b[0m \u001b[0mexception_class\u001b[0m\u001b[0;34m(\u001b[0m\u001b[0mmessage\u001b[0m\u001b[0;34m,\u001b[0m \u001b[0mscreen\u001b[0m\u001b[0;34m,\u001b[0m \u001b[0mstacktrace\u001b[0m\u001b[0;34m,\u001b[0m \u001b[0malert_text\u001b[0m\u001b[0;34m)\u001b[0m  \u001b[0;31m# type: ignore[call-arg]  # mypy is not smart enough here\u001b[0m\u001b[0;34m\u001b[0m\u001b[0;34m\u001b[0m\u001b[0m\n\u001b[0;32m--> 245\u001b[0;31m         \u001b[0;32mraise\u001b[0m \u001b[0mexception_class\u001b[0m\u001b[0;34m(\u001b[0m\u001b[0mmessage\u001b[0m\u001b[0;34m,\u001b[0m \u001b[0mscreen\u001b[0m\u001b[0;34m,\u001b[0m \u001b[0mstacktrace\u001b[0m\u001b[0;34m)\u001b[0m\u001b[0;34m\u001b[0m\u001b[0;34m\u001b[0m\u001b[0m\n\u001b[0m",
      "\u001b[0;31mNoSuchWindowException\u001b[0m: Message: no such window: target window already closed\nfrom unknown error: web view not found\n  (Session info: chrome=114.0.5735.198)\nStacktrace:\n#0 0x55699efd14e3 <unknown>\n#1 0x55699ed00c76 <unknown>\n#2 0x55699ecdac6c <unknown>\n#3 0x55699ed60f8f <unknown>\n#4 0x55699ed73d66 <unknown>\n#5 0x55699ed5bde3 <unknown>\n#6 0x55699ed312dd <unknown>\n#7 0x55699ed3234e <unknown>\n#8 0x55699ef913e4 <unknown>\n#9 0x55699ef953d7 <unknown>\n#10 0x55699ef9fb20 <unknown>\n#11 0x55699ef96023 <unknown>\n#12 0x55699ef641aa <unknown>\n#13 0x55699efba6b8 <unknown>\n#14 0x55699efba847 <unknown>\n#15 0x55699efca243 <unknown>\n#16 0x7ff88ce3344b <unknown>\n"
     ]
    }
   ],
   "source": [
    "import time\n",
    "\n",
    "# Instantiate the WebDriver (e.g., ChromeDriver)\n",
    "driver = webdriver.Chrome()\n",
    "\n",
    "# Navigate to a webpage\n",
    "driver.get(\"https://www.geeksforgeeks.org/automating-google-meet-using-selenium-in-python/\")\n",
    "\n",
    "# Define the scroll height and increment value\n",
    "scroll_height = 0\n",
    "scroll_increment = 20\n",
    "scroll_delay = 0.2  # Adjust the delay value for your desired scrolling speed\n",
    "\n",
    "# Slowly scroll down the page\n",
    "while scroll_height <= 2000:\n",
    "    driver.execute_script(f\"window.scrollTo(0, {scroll_height});\")\n",
    "    scroll_height += scroll_increment\n",
    "    time.sleep(scroll_delay)\n",
    "\n",
    "# Close the browser\n",
    "driver.quit()\n"
   ]
  },
  {
   "cell_type": "markdown",
   "id": "26a36eba-f00d-4fb9-8d63-8d1da79ff899",
   "metadata": {
    "tags": []
   },
   "source": [
    "# Searching and button press"
   ]
  },
  {
   "cell_type": "code",
   "execution_count": null,
   "id": "cf812f97-9aaa-471d-81f4-a74bfd0798f5",
   "metadata": {
    "tags": []
   },
   "outputs": [],
   "source": [
    "from selenium import webdriver\n",
    "from selenium.webdriver.common.by import By\n",
    "from selenium.webdriver.common.keys import Keys\n",
    "\n",
    "# Instantiate the WebDriver (e.g., ChromeDriver)\n",
    "driver = webdriver.Chrome()\n",
    "\n",
    "# Navigate to a webpage\n",
    "driver.get(\"https://www.geeksforgeeks.org/automating-google-meet-using-selenium-in-python/\")\n",
    "\n",
    "# Find the search button and click on it\n",
    "button = driver.find_element(By.XPATH, '//*[@id=\"gcse-form\"]/button')\n",
    "button.click()\n",
    "\n",
    "# Find the search input element and enter the search query\n",
    "search_input = driver.find_element(By.XPATH, '//*[@id=\"gcse-search-input\"]')\n",
    "search_input.send_keys(\"Binary Search Tree C++\")\n",
    "\n",
    "# Press Enter key\n",
    "search_input.send_keys(Keys.ENTER)\n",
    "\n",
    "time.sleep(3)\n",
    "# Close the browser\n",
    "driver.quit()\n"
   ]
  },
  {
   "cell_type": "code",
   "execution_count": null,
   "id": "93bcfadf-841f-41fd-a782-0c1abd1f5b7f",
   "metadata": {},
   "outputs": [],
   "source": []
  }
 ],
 "metadata": {
  "kernelspec": {
   "display_name": "Python 3",
   "language": "python",
   "name": "python3"
  },
  "language_info": {
   "codemirror_mode": {
    "name": "ipython",
    "version": 3
   },
   "file_extension": ".py",
   "mimetype": "text/x-python",
   "name": "python",
   "nbconvert_exporter": "python",
   "pygments_lexer": "ipython3",
   "version": "3.7.12"
  }
 },
 "nbformat": 4,
 "nbformat_minor": 5
}
