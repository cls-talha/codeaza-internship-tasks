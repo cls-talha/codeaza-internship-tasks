{
  "nbformat": 4,
  "nbformat_minor": 0,
  "metadata": {
    "colab": {
      "provenance": []
    },
    "kernelspec": {
      "name": "python3",
      "display_name": "Python 3"
    },
    "language_info": {
      "name": "python"
    }
  },
  "cells": [
    {
      "cell_type": "markdown",
      "source": [
        "# Assignment REST API Topics\n",
        "- Get different types of respose from API endpoint (CRUD)\n",
        "- Check for Response Code Eg (404, 403, 200)\n",
        "- Visualize response (JSON/XML)\n",
        "- Difference Between api versions\n",
        "- Store Useful Data in tabular form (dataframe)\n",
        "\n",
        "## For this assignment I will be using quran.com api to extract data and store it in Dataframe"
      ],
      "metadata": {
        "id": "Sh0rucTB-68_"
      }
    },
    {
      "cell_type": "markdown",
      "source": [
        "# Get different types of respose from API endpoint (CRUD)\n",
        "\n",
        "**requests**\n",
        "\n",
        "---\n",
        "\n",
        "Requests is a python library used for making HTTP resquest and store respose either in JSON , XML or binary\n",
        "\n",
        "**Endpoint**\n",
        "\n",
        "\n",
        "---\n",
        "\n",
        "\n",
        "In an API, an endpoint is a specific URL or URI that represents a resource or functionality provided by the API. It serves as the target location for accessing or manipulating data through HTTP requests.\n",
        "\n",
        "## https://api.quran.com/api/{endpoint}\n",
        "\n",
        "## https://api.quran.com/api/v3/chapters/3\n",
        "\n",
        "\n"
      ],
      "metadata": {
        "id": "5pCQtXiOAx0s"
      }
    },
    {
      "cell_type": "code",
      "execution_count": null,
      "metadata": {
        "id": "_0GkUxSPoW_5"
      },
      "outputs": [],
      "source": [
        "import requests\n",
        "\n",
        "url = \"https://api.quran.com/api/v3/chapters/3\"\n"
      ]
    },
    {
      "cell_type": "markdown",
      "source": [
        "# Check for Response Code Eg (404, 403, 200)\n",
        "\n",
        "\n",
        "\n",
        "*   response = 404 - Not Found\n",
        "*   response = 403 - Forbidden\n",
        "*   response = 200 - OK\n",
        "\n"
      ],
      "metadata": {
        "id": "0j4wMpUGA44B"
      }
    },
    {
      "cell_type": "code",
      "source": [
        "response = requests.get(url)\n",
        "print(\"Respose Cocde: \",response.status_code)"
      ],
      "metadata": {
        "colab": {
          "base_uri": "https://localhost:8080/"
        },
        "id": "SBcdAE34obFy",
        "outputId": "b0a00807-526f-4e50-b69b-f7d78b8f37c7"
      },
      "execution_count": null,
      "outputs": [
        {
          "output_type": "stream",
          "name": "stdout",
          "text": [
            "Respose Cocde:  200\n"
          ]
        }
      ]
    },
    {
      "cell_type": "markdown",
      "source": [
        "# Visualize response (JSON/XML)"
      ],
      "metadata": {
        "id": "cMNPs_6QA79r"
      }
    },
    {
      "cell_type": "code",
      "source": [
        "response.json()"
      ],
      "metadata": {
        "colab": {
          "base_uri": "https://localhost:8080/"
        },
        "id": "iUo5_fKb-c_p",
        "outputId": "c8459d31-ef16-4923-83e7-97f0482c6bd8"
      },
      "execution_count": null,
      "outputs": [
        {
          "output_type": "execute_result",
          "data": {
            "text/plain": [
              "{'chapter': {'id': 3,\n",
              "  'revelation_place': 'madinah',\n",
              "  'revelation_order': 89,\n",
              "  'bismillah_pre': True,\n",
              "  'name_simple': \"Ali 'Imran\",\n",
              "  'name_complex': 'Āli `Imrān',\n",
              "  'name_arabic': 'آل عمران',\n",
              "  'verses_count': 200,\n",
              "  'pages': [50, 76],\n",
              "  'chapter_number': 3,\n",
              "  'translated_name': {'language_name': 'english', 'name': 'Family of Imran'}}}"
            ]
          },
          "metadata": {},
          "execution_count": 5
        }
      ]
    },
    {
      "cell_type": "markdown",
      "source": [
        "# Difference Between api versions\n",
        "\n",
        "\n",
        "1.   https://api.quran.com/api/v3/chapters/3 (here **v3** means version-3 of this api)  \n",
        "there\n",
        "can be multiple versions of same api\n",
        "2.   For instance **v4** of this api is also available"
      ],
      "metadata": {
        "id": "ajkZuAtdBChy"
      }
    },
    {
      "cell_type": "code",
      "source": [
        "print(\"******************************\")\n",
        "print(\"[INFO] Version-3 API response\")\n",
        "print(\"******************************\\n\")\n",
        "\n",
        "print(requests.get(\"https://api.quran.com/api/v3/chapters/3\").json())\n",
        "\n",
        "print(\"\\n\\n******************************\")\n",
        "print(\"[INFO] Version-4 API response\")\n",
        "print(\"******************************\\n\")\n",
        "\n",
        "print(requests.get(\"https://api.quran.com/api/v4/chapters/3\").json())"
      ],
      "metadata": {
        "colab": {
          "base_uri": "https://localhost:8080/"
        },
        "id": "H459PA_yBDjq",
        "outputId": "bb3a79fa-ebb2-4445-e39b-7dbff77b4185"
      },
      "execution_count": null,
      "outputs": [
        {
          "output_type": "stream",
          "name": "stdout",
          "text": [
            "******************************\n",
            "[INFO] Version-3 API response\n",
            "******************************\n",
            "\n",
            "{'chapter': {'id': 3, 'revelation_place': 'madinah', 'revelation_order': 89, 'bismillah_pre': True, 'name_simple': \"Ali 'Imran\", 'name_complex': 'Āli `Imrān', 'name_arabic': 'آل عمران', 'verses_count': 200, 'pages': [50, 76], 'chapter_number': 3, 'translated_name': {'language_name': 'english', 'name': 'Family of Imran'}}}\n",
            "\n",
            "\n",
            "******************************\n",
            "[INFO] Version-4 API response\n",
            "******************************\n",
            "\n",
            "{'chapter': {'id': 3, 'revelation_place': 'madinah', 'revelation_order': 89, 'bismillah_pre': True, 'name_simple': \"Ali 'Imran\", 'name_complex': 'Āli `Imrān', 'name_arabic': 'آل عمران', 'verses_count': 200, 'pages': [50, 76], 'translated_name': {'language_name': 'english', 'name': 'Family of Imran'}}}\n"
          ]
        }
      ]
    },
    {
      "cell_type": "markdown",
      "source": [
        "# Store Useful Data in tabular form (dataframe)"
      ],
      "metadata": {
        "id": "R0tWkZgPBmVI"
      }
    },
    {
      "cell_type": "code",
      "source": [
        "import requests\n",
        "\n",
        "# {'id': 3,\n",
        "#   'revelation_place': 'madinah',\n",
        "#   'revelation_order': 89,\n",
        "#   'bismillah_pre': True,\n",
        "#   'name_simple': \"Ali 'Imran\",\n",
        "#   'name_complex': 'Āli `Imrān',\n",
        "#   'name_arabic': 'آل عمران',\n",
        "#   'verses_count': 200,\n",
        "#   'pages': [50, 76],\n",
        "#   'chapter_number': 3,\n",
        "#   'translated_name': {'language_name': 'english', 'name': 'Family of Imran'}}\n",
        "\n",
        "\n",
        "def get_data() :\n",
        "  try:\n",
        "\n",
        "    extracted_data = {}\n",
        "    for i in range(1, 115):\n",
        "      url = f\"https://api.quran.com/api/v3/chapters/{i}\"\n",
        "      response = requests.get(url)\n",
        "      chapter_info = response.json()\n",
        "\n",
        "      extracted_data[i] = {\n",
        "          \"id\": chapter_info[\"chapter\"][\"id\"],\n",
        "          \"name_simple\": chapter_info[\"chapter\"][\"name_simple\"],\n",
        "          \"revelation_city\": chapter_info[\"chapter\"][\"revelation_place\"],\n",
        "          \"verses_count\": chapter_info[\"chapter\"][\"verses_count\"],\n",
        "          \"translated_name\": chapter_info[\"chapter\"][\"translated_name\"][\"name\"],\n",
        "      }\n",
        "\n",
        "    return extracted_data\n",
        "\n",
        "  except requests.exceptions.HTTPError as e:\n",
        "    print(e.respose.text)\n",
        "\n",
        "\n",
        "raw_data = get_data()"
      ],
      "metadata": {
        "id": "fweSvAy0Bm_x"
      },
      "execution_count": null,
      "outputs": []
    },
    {
      "cell_type": "markdown",
      "source": [
        "# Making Dataframe pandas with specific columns"
      ],
      "metadata": {
        "id": "Tb-nws147kVQ"
      }
    },
    {
      "cell_type": "code",
      "source": [
        "import pandas as pd\n",
        "\n",
        "df = pd.DataFrame.from_dict(raw_data, orient='index', columns=['id', 'name_simple', 'revelation_city', 'verses_count', 'translated_name'])"
      ],
      "metadata": {
        "id": "xCyRi6UZKYqo"
      },
      "execution_count": null,
      "outputs": []
    },
    {
      "cell_type": "code",
      "source": [
        "df.head()"
      ],
      "metadata": {
        "id": "WQ7poAs4My0R",
        "outputId": "c2d36056-f752-4b7e-f1be-44b2ed3c9c9f",
        "colab": {
          "base_uri": "https://localhost:8080/",
          "height": 206
        }
      },
      "execution_count": null,
      "outputs": [
        {
          "output_type": "execute_result",
          "data": {
            "text/plain": [
              "   id name_simple revelation_city  verses_count   translated_name\n",
              "1   1  Al-Fatihah          makkah             7        The Opener\n",
              "2   2  Al-Baqarah         madinah           286           The Cow\n",
              "3   3  Ali 'Imran         madinah           200   Family of Imran\n",
              "4   4     An-Nisa         madinah           176         The Women\n",
              "5   5  Al-Ma'idah         madinah           120  The Table Spread"
            ],
            "text/html": [
              "\n",
              "  <div id=\"df-2b784407-590c-4941-a791-77ddaa3f2edc\">\n",
              "    <div class=\"colab-df-container\">\n",
              "      <div>\n",
              "<style scoped>\n",
              "    .dataframe tbody tr th:only-of-type {\n",
              "        vertical-align: middle;\n",
              "    }\n",
              "\n",
              "    .dataframe tbody tr th {\n",
              "        vertical-align: top;\n",
              "    }\n",
              "\n",
              "    .dataframe thead th {\n",
              "        text-align: right;\n",
              "    }\n",
              "</style>\n",
              "<table border=\"1\" class=\"dataframe\">\n",
              "  <thead>\n",
              "    <tr style=\"text-align: right;\">\n",
              "      <th></th>\n",
              "      <th>id</th>\n",
              "      <th>name_simple</th>\n",
              "      <th>revelation_city</th>\n",
              "      <th>verses_count</th>\n",
              "      <th>translated_name</th>\n",
              "    </tr>\n",
              "  </thead>\n",
              "  <tbody>\n",
              "    <tr>\n",
              "      <th>1</th>\n",
              "      <td>1</td>\n",
              "      <td>Al-Fatihah</td>\n",
              "      <td>makkah</td>\n",
              "      <td>7</td>\n",
              "      <td>The Opener</td>\n",
              "    </tr>\n",
              "    <tr>\n",
              "      <th>2</th>\n",
              "      <td>2</td>\n",
              "      <td>Al-Baqarah</td>\n",
              "      <td>madinah</td>\n",
              "      <td>286</td>\n",
              "      <td>The Cow</td>\n",
              "    </tr>\n",
              "    <tr>\n",
              "      <th>3</th>\n",
              "      <td>3</td>\n",
              "      <td>Ali 'Imran</td>\n",
              "      <td>madinah</td>\n",
              "      <td>200</td>\n",
              "      <td>Family of Imran</td>\n",
              "    </tr>\n",
              "    <tr>\n",
              "      <th>4</th>\n",
              "      <td>4</td>\n",
              "      <td>An-Nisa</td>\n",
              "      <td>madinah</td>\n",
              "      <td>176</td>\n",
              "      <td>The Women</td>\n",
              "    </tr>\n",
              "    <tr>\n",
              "      <th>5</th>\n",
              "      <td>5</td>\n",
              "      <td>Al-Ma'idah</td>\n",
              "      <td>madinah</td>\n",
              "      <td>120</td>\n",
              "      <td>The Table Spread</td>\n",
              "    </tr>\n",
              "  </tbody>\n",
              "</table>\n",
              "</div>\n",
              "      <button class=\"colab-df-convert\" onclick=\"convertToInteractive('df-2b784407-590c-4941-a791-77ddaa3f2edc')\"\n",
              "              title=\"Convert this dataframe to an interactive table.\"\n",
              "              style=\"display:none;\">\n",
              "        \n",
              "  <svg xmlns=\"http://www.w3.org/2000/svg\" height=\"24px\"viewBox=\"0 0 24 24\"\n",
              "       width=\"24px\">\n",
              "    <path d=\"M0 0h24v24H0V0z\" fill=\"none\"/>\n",
              "    <path d=\"M18.56 5.44l.94 2.06.94-2.06 2.06-.94-2.06-.94-.94-2.06-.94 2.06-2.06.94zm-11 1L8.5 8.5l.94-2.06 2.06-.94-2.06-.94L8.5 2.5l-.94 2.06-2.06.94zm10 10l.94 2.06.94-2.06 2.06-.94-2.06-.94-.94-2.06-.94 2.06-2.06.94z\"/><path d=\"M17.41 7.96l-1.37-1.37c-.4-.4-.92-.59-1.43-.59-.52 0-1.04.2-1.43.59L10.3 9.45l-7.72 7.72c-.78.78-.78 2.05 0 2.83L4 21.41c.39.39.9.59 1.41.59.51 0 1.02-.2 1.41-.59l7.78-7.78 2.81-2.81c.8-.78.8-2.07 0-2.86zM5.41 20L4 18.59l7.72-7.72 1.47 1.35L5.41 20z\"/>\n",
              "  </svg>\n",
              "      </button>\n",
              "      \n",
              "  <style>\n",
              "    .colab-df-container {\n",
              "      display:flex;\n",
              "      flex-wrap:wrap;\n",
              "      gap: 12px;\n",
              "    }\n",
              "\n",
              "    .colab-df-convert {\n",
              "      background-color: #E8F0FE;\n",
              "      border: none;\n",
              "      border-radius: 50%;\n",
              "      cursor: pointer;\n",
              "      display: none;\n",
              "      fill: #1967D2;\n",
              "      height: 32px;\n",
              "      padding: 0 0 0 0;\n",
              "      width: 32px;\n",
              "    }\n",
              "\n",
              "    .colab-df-convert:hover {\n",
              "      background-color: #E2EBFA;\n",
              "      box-shadow: 0px 1px 2px rgba(60, 64, 67, 0.3), 0px 1px 3px 1px rgba(60, 64, 67, 0.15);\n",
              "      fill: #174EA6;\n",
              "    }\n",
              "\n",
              "    [theme=dark] .colab-df-convert {\n",
              "      background-color: #3B4455;\n",
              "      fill: #D2E3FC;\n",
              "    }\n",
              "\n",
              "    [theme=dark] .colab-df-convert:hover {\n",
              "      background-color: #434B5C;\n",
              "      box-shadow: 0px 1px 3px 1px rgba(0, 0, 0, 0.15);\n",
              "      filter: drop-shadow(0px 1px 2px rgba(0, 0, 0, 0.3));\n",
              "      fill: #FFFFFF;\n",
              "    }\n",
              "  </style>\n",
              "\n",
              "      <script>\n",
              "        const buttonEl =\n",
              "          document.querySelector('#df-2b784407-590c-4941-a791-77ddaa3f2edc button.colab-df-convert');\n",
              "        buttonEl.style.display =\n",
              "          google.colab.kernel.accessAllowed ? 'block' : 'none';\n",
              "\n",
              "        async function convertToInteractive(key) {\n",
              "          const element = document.querySelector('#df-2b784407-590c-4941-a791-77ddaa3f2edc');\n",
              "          const dataTable =\n",
              "            await google.colab.kernel.invokeFunction('convertToInteractive',\n",
              "                                                     [key], {});\n",
              "          if (!dataTable) return;\n",
              "\n",
              "          const docLinkHtml = 'Like what you see? Visit the ' +\n",
              "            '<a target=\"_blank\" href=https://colab.research.google.com/notebooks/data_table.ipynb>data table notebook</a>'\n",
              "            + ' to learn more about interactive tables.';\n",
              "          element.innerHTML = '';\n",
              "          dataTable['output_type'] = 'display_data';\n",
              "          await google.colab.output.renderOutput(dataTable, element);\n",
              "          const docLink = document.createElement('div');\n",
              "          docLink.innerHTML = docLinkHtml;\n",
              "          element.appendChild(docLink);\n",
              "        }\n",
              "      </script>\n",
              "    </div>\n",
              "  </div>\n",
              "  "
            ]
          },
          "metadata": {},
          "execution_count": 9
        }
      ]
    },
    {
      "cell_type": "code",
      "source": [],
      "metadata": {
        "id": "kaeKdaZw7rGT"
      },
      "execution_count": null,
      "outputs": []
    }
  ]
}